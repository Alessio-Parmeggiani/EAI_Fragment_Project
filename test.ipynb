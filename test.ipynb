{
 "cells": [
  {
   "cell_type": "code",
   "execution_count": 1,
   "metadata": {},
   "outputs": [
    {
     "name": "stdout",
     "output_type": "stream",
     "text": [
      "Jupyter environment detected. Enabling Open3D WebVisualizer.\n",
      "[Open3D INFO] WebRTC GUI backend enabled.\n",
      "[Open3D INFO] WebRTCWindowSystem: HTTP handshake server disabled.\n"
     ]
    }
   ],
   "source": [
    "import os\n",
    "import re\n",
    "import open3d as o3d"
   ]
  },
  {
   "cell_type": "code",
   "execution_count": 10,
   "metadata": {},
   "outputs": [],
   "source": [
    "\n",
    "def pretty_print(grid):\n",
    "    for row in grid:\n",
    "        print(row)\n",
    "\n",
    "#from path of description file get the coupling grid, model data and \n",
    "#remove models with error\n",
    "def process_file(path):\n",
    "    with open(path,'r') as f:\n",
    "        #don't consider first two lines\n",
    "        f.readline()           #segmenti x x x\n",
    "        f.readline()           #rotazioni x x x\n",
    "\n",
    "        line=f.readline()      #numero pezzi x  \n",
    "\n",
    "        #get number of fragments\n",
    "        number=int(re.findall(\"\\d+\",line)[0])\n",
    "\n",
    "        #coupling matrix\n",
    "        grid=[]\n",
    "        for i in range(number):\n",
    "            line=f.readline()\n",
    "            ret=re.findall('-1|0|1',line)\n",
    "            grid.append(list(map(int,ret)))\n",
    "\n",
    "        #model data\n",
    "        model_names=[]\n",
    "        non_valid_indeces=[]\n",
    "        for m in range(number):\n",
    "            f.readline()        #blank line\n",
    "            name=f.readline()   #model name\n",
    "            mesh=f.readline()   #mesh n\n",
    "            f.readline()        #external n\n",
    "            f.readline()        #internal n\n",
    "\n",
    "            #if mesh=0 I don't consider the element\n",
    "            mesh_n=int(mesh.rstrip().split(\" \")[1]) \n",
    "            if mesh_n!=0: \n",
    "                #try create file name\n",
    "                file_name= name.rstrip().replace(\".\",\"_\")\n",
    "                model_names.append(file_name)\n",
    "                \n",
    "            else:\n",
    "                #saving indices to remove later\n",
    "                non_valid_indeces.append(m)\n",
    "\n",
    "        #removing elements from grid\n",
    "        #sorted in reverse to avoid wrong index\n",
    "        for index in sorted(non_valid_indeces, reverse=True):\n",
    "            del grid[index]\n",
    "            for row in grid:\n",
    "                del row[index]\n",
    "        \n",
    "\n",
    "\n",
    "        #eliminare anche le colonne\n",
    "\n",
    "        return grid,model_names\n"
   ]
  },
  {
   "cell_type": "code",
   "execution_count": 6,
   "metadata": {},
   "outputs": [],
   "source": [
    "def get_set(folder,verbose=True):\n",
    "    folder_path=os.path.join(main_path,folder)\n",
    "    models_file=[]\n",
    "\n",
    "    #for each set of pieces\n",
    "    for file in os.listdir(folder_path):\n",
    "        if '.txt' in file:\n",
    "            description_file=file\n",
    "        elif '.stl' in file:\n",
    "            #not used, they are not in the same order of the file\n",
    "            models_file.append(file)\n",
    "    #parsing description file\n",
    "    full_description_file=os.path.join(folder_path,description_file)\n",
    "    grid,model_names=process_file(full_description_file)\n",
    "\n",
    "    #get path of models of current set\n",
    "    model_prefix=folder.replace(\"generatedTest_\",\"\")\n",
    "    complete_models_path=[]\n",
    "    for i in range(len(model_names)):\n",
    "        #e.g. 2021_11_29_10_00_40_Cube_001.stl\n",
    "        correct_model_name=f\"{model_prefix}_{model_names[i]}.stl\"\n",
    "\n",
    "        #saving only names, could be useful\n",
    "        model_names[i]=correct_model_name\n",
    "        complete_models_path.append(os.path.join(folder_path,correct_model_name))\n",
    "\n",
    "    #create set and put into list of sets\n",
    "    set={\"models\":complete_models_path,\"grid\":grid}\n",
    "    if verbose:\n",
    "        print(\"A set: \\n\")\n",
    "        print(\"Models: \",set[\"models\"])\n",
    "        print(\"Grid: \")\n",
    "        pretty_print(set[\"grid\"])\n",
    "\n",
    "    return set"
   ]
  },
  {
   "cell_type": "code",
   "execution_count": 7,
   "metadata": {},
   "outputs": [],
   "source": [
    "#here i save all the sets of fragments\n",
    "sets=[]\n",
    "\n",
    "#root folder\n",
    "main_path=\"produzione_29112021\""
   ]
  },
  {
   "cell_type": "code",
   "execution_count": 14,
   "metadata": {},
   "outputs": [
    {
     "name": "stdout",
     "output_type": "stream",
     "text": [
      "A set: \n",
      "\n",
      "Models:  ['produzione_29112021\\\\generatedTest_2021_11_29_10_00_40\\\\2021_11_29_10_00_40_Cube.stl', 'produzione_29112021\\\\generatedTest_2021_11_29_10_00_40\\\\2021_11_29_10_00_40_Cube_001.stl', 'produzione_29112021\\\\generatedTest_2021_11_29_10_00_40\\\\2021_11_29_10_00_40_Cube_002.stl', 'produzione_29112021\\\\generatedTest_2021_11_29_10_00_40\\\\2021_11_29_10_00_40_Cube_003.stl', 'produzione_29112021\\\\generatedTest_2021_11_29_10_00_40\\\\2021_11_29_10_00_40_Cube_004.stl', 'produzione_29112021\\\\generatedTest_2021_11_29_10_00_40\\\\2021_11_29_10_00_40_Cube_005.stl', 'produzione_29112021\\\\generatedTest_2021_11_29_10_00_40\\\\2021_11_29_10_00_40_Cube_006.stl', 'produzione_29112021\\\\generatedTest_2021_11_29_10_00_40\\\\2021_11_29_10_00_40_Cube_007.stl']\n",
      "Grid: \n",
      "[-1, 1, 0, 0, 1, 1, 1, 1]\n",
      "[1, -1, 1, 0, 1, 1, 1, 0]\n",
      "[0, 1, -1, 1, 1, 1, 1, 0]\n",
      "[0, 0, 1, -1, 1, 0, 1, 0]\n",
      "[1, 1, 1, 1, -1, 0, 1, 1]\n",
      "[1, 1, 1, 0, 0, -1, 1, 0]\n",
      "[1, 1, 1, 1, 1, 1, -1, 1]\n",
      "[1, 0, 0, 0, 1, 0, 1, -1]\n"
     ]
    }
   ],
   "source": [
    "\n",
    "for folder in os.listdir(main_path):\n",
    "    #check only folders, not files\n",
    "    if '.' not in folder:\n",
    "        set=get_set(folder)\n",
    "        sets.append(set)\n",
    "        break       "
   ]
  },
  {
   "cell_type": "markdown",
   "metadata": {},
   "source": [
    "## Visualize 3D models and pointCloud"
   ]
  },
  {
   "cell_type": "code",
   "execution_count": 15,
   "metadata": {},
   "outputs": [
    {
     "ename": "KeyboardInterrupt",
     "evalue": "",
     "output_type": "error",
     "traceback": [
      "\u001b[1;31m---------------------------------------------------------------------------\u001b[0m",
      "\u001b[1;31mKeyboardInterrupt\u001b[0m                         Traceback (most recent call last)",
      "Input \u001b[1;32mIn [15]\u001b[0m, in \u001b[0;36m<module>\u001b[1;34m\u001b[0m\n\u001b[0;32m      7\u001b[0m \u001b[38;5;66;03m# you can plot and check\u001b[39;00m\n\u001b[0;32m      8\u001b[0m o3d\u001b[38;5;241m.\u001b[39mvisualization\u001b[38;5;241m.\u001b[39mdraw_geometries([mesh])\n\u001b[1;32m----> 9\u001b[0m \u001b[43mo3d\u001b[49m\u001b[38;5;241m.\u001b[39mvisualization\u001b[38;5;241m.\u001b[39mdraw_geometries([pointcloud])\n\u001b[0;32m     11\u001b[0m \u001b[38;5;28;01mbreak\u001b[39;00m\n",
      "\u001b[1;31mKeyboardInterrupt\u001b[0m: "
     ]
    }
   ],
   "source": [
    "#visualize some models and point clouds\n",
    "for set in sets:\n",
    "    for path in set[\"models\"]:\n",
    "        mesh = o3d.io.read_triangle_mesh(path)\n",
    "        pointcloud = mesh.sample_points_poisson_disk(1000)\n",
    "\n",
    "        # you can plot and check\n",
    "        o3d.visualization.draw_geometries([mesh])\n",
    "        o3d.visualization.draw_geometries([pointcloud])\n",
    "        \n",
    "        break"
   ]
  }
 ],
 "metadata": {
  "interpreter": {
   "hash": "691f1b564724e08df0ae28181cdfea598ff9582372b176e10f27b62d8e6609e2"
  },
  "kernelspec": {
   "display_name": "Python 3.9.7 64-bit ('ml': conda)",
   "language": "python",
   "name": "python3"
  },
  "language_info": {
   "codemirror_mode": {
    "name": "ipython",
    "version": 3
   },
   "file_extension": ".py",
   "mimetype": "text/x-python",
   "name": "python",
   "nbconvert_exporter": "python",
   "pygments_lexer": "ipython3",
   "version": "3.9.7"
  },
  "orig_nbformat": 4
 },
 "nbformat": 4,
 "nbformat_minor": 2
}
